{
  "nbformat": 4,
  "nbformat_minor": 0,
  "metadata": {
    "colab": {
      "name": "Object detection From an Image in Google Colab(Free GPU).ipynb",
      "provenance": [],
      "private_outputs": true,
      "authorship_tag": "ABX9TyPGfFB1yPt+L9zXDSXU9WJE",
      "include_colab_link": true
    },
    "kernelspec": {
      "name": "python3",
      "display_name": "Python 3"
    },
    "accelerator": "GPU"
  },
  "cells": [
    {
      "cell_type": "markdown",
      "metadata": {
        "id": "view-in-github",
        "colab_type": "text"
      },
      "source": [
        "<a href=\"https://colab.research.google.com/github/vighc/Object_detection_from_an_Image_in_Google_Colab/blob/master/Image/Object_detection_From_an_Image_in_Google_Colab(Free_GPU).ipynb\" target=\"_parent\"><img src=\"https://colab.research.google.com/assets/colab-badge.svg\" alt=\"Open In Colab\"/></a>"
      ]
    },
    {
      "cell_type": "markdown",
      "metadata": {
        "id": "4j8MvkCCZqRE",
        "colab_type": "text"
      },
      "source": [
        "## **Object detection From an Image in Google Colab(Free GPU)**\n",
        "\n",
        "(*Check out my Github resp for Object detection from a video*\n",
        "[*vighc/github*](https://github.com/vighc/) )\n",
        "\n",
        "\n",
        "\n",
        "by [Vighneshwara C](https://github.com/vighc)\n",
        "\n",
        "\n"
      ]
    },
    {
      "cell_type": "markdown",
      "metadata": {
        "id": "o0Z7wM8Ad1lA",
        "colab_type": "text"
      },
      "source": [
        "# Step 1: Enabling GPU within your notebook\n",
        "You will want to enable GPU acceleration within your Colab notebook so that your YOLOv4 system will be able to process detections over 100 times faster than CPU.\n",
        "\n",
        "**Edit--> Notebook setting-->Click GPU-->Save**"
      ]
    },
    {
      "cell_type": "markdown",
      "metadata": {
        "id": "sBVCrpTveXp7",
        "colab_type": "text"
      },
      "source": [
        "# Step 2: Cloning and Building Darknet\n"
      ]
    },
    {
      "cell_type": "code",
      "metadata": {
        "colab_type": "code",
        "id": "FTO0Ju1cdKpE",
        "colab": {}
      },
      "source": [
        "# clone darknet repo\n",
        "!git clone https://github.com/AlexeyAB/darknet"
      ],
      "execution_count": 0,
      "outputs": []
    },
    {
      "cell_type": "code",
      "metadata": {
        "id": "xym8_m8CIyXK",
        "colab_type": "code",
        "colab": {}
      },
      "source": [
        "# change makefile to have GPU and OPENCV enabled\n",
        "%cd darknet\n",
        "!sed -i 's/OPENCV=0/OPENCV=1/' Makefile\n",
        "!sed -i 's/GPU=0/GPU=1/' Makefile\n",
        "!sed -i 's/CUDNN=0/CUDNN=1/' Makefile\n",
        "!sed -i 's/CUDNN_HALF=0/CUDNN_HALF=1/' Makefile\n",
        "!/usr/local/cuda/bin/nvcc --version\n",
        "!make"
      ],
      "execution_count": 0,
      "outputs": []
    },
    {
      "cell_type": "markdown",
      "metadata": {
        "id": "BGaIqnt2ekur",
        "colab_type": "text"
      },
      "source": [
        "## Step 3: Download pre-trained YOLOv4 weights"
      ]
    },
    {
      "cell_type": "code",
      "metadata": {
        "id": "vVtgyY_ELoSf",
        "colab_type": "code",
        "colab": {}
      },
      "source": [
        "!wget https://github.com/AlexeyAB/darknet/releases/download/darknet_yolo_v3_optimal/yolov4.weights"
      ],
      "execution_count": 0,
      "outputs": []
    },
    {
      "cell_type": "markdown",
      "metadata": {
        "id": "sgOmBUFve5QO",
        "colab_type": "text"
      },
      "source": [
        "## Step 4: Define Functions"
      ]
    },
    {
      "cell_type": "code",
      "metadata": {
        "id": "G9Fv0wjCMPYY",
        "colab_type": "code",
        "colab": {}
      },
      "source": [
        "# define helper functions\n",
        "def imShow(path):\n",
        "  import cv2\n",
        "  import matplotlib.pyplot as plt\n",
        "  %matplotlib inline\n",
        "\n",
        "  image = cv2.imread(path)\n",
        "  height, width = image.shape[:2]\n",
        "  resized_image = cv2.resize(image,(3*width, 3*height), interpolation = cv2.INTER_CUBIC)\n",
        "\n",
        "  fig = plt.gcf()\n",
        "  fig.set_size_inches(18, 10)\n",
        "  plt.axis(\"off\")\n",
        "  plt.imshow(cv2.cvtColor(resized_image, cv2.COLOR_BGR2RGB))\n",
        "  plt.show()\n",
        "\n",
        "# use this to upload files\n",
        "def upload():\n",
        "  from google.colab import files\n",
        "  uploaded = files.upload() \n",
        "  for name, data in uploaded.items():\n",
        "    with open(name, 'wb') as f:\n",
        "      f.write(data)\n",
        "      print ('saved file', name)\n",
        "\n",
        "# use this to download a file  \n",
        "def download(path):\n",
        "  from google.colab import files\n",
        "  files.download(path)"
      ],
      "execution_count": 0,
      "outputs": []
    },
    {
      "cell_type": "markdown",
      "metadata": {
        "id": "lLW_LRsic8Yr",
        "colab_type": "text"
      },
      "source": [
        "# **Method 1: Local Files**"
      ]
    },
    {
      "cell_type": "code",
      "metadata": {
        "id": "EZouo3ZDWU8q",
        "colab_type": "code",
        "colab": {}
      },
      "source": [
        "# try out the upload helper function! (I uploaded an image called highway.jpg, upload whatever you want!)\n",
        "%cd ..\n",
        "upload()\n",
        "%cd darknet\n",
        "!./darknet detector test cfg/coco.data cfg/yolov4.cfg yolov4.weights ../aa.jpg\n",
        "imShow('predictions.jpg')\n"
      ],
      "execution_count": 0,
      "outputs": []
    },
    {
      "cell_type": "markdown",
      "metadata": {
        "id": "fZZoB2WYgmfm",
        "colab_type": "text"
      },
      "source": [
        "# Method 2: Google Drive"
      ]
    },
    {
      "cell_type": "code",
      "metadata": {
        "id": "dPzH209IgpYz",
        "colab_type": "code",
        "colab": {}
      },
      "source": [
        "%cd ..\n",
        "from google.colab import drive\n",
        "drive.mount('/content/gdrive')\n",
        "!ln -s /content/gdrive/My\\ Drive/ /mydrive\n",
        "!ls /mydrive\n",
        "%cd darknet\n",
        "!./darknet detector test cfg/coco.data cfg/yolov4.cfg yolov4.weights /mydrive/aa.jpg\n",
        "imShow('predictions.jpg')"
      ],
      "execution_count": 0,
      "outputs": []
    },
    {
      "cell_type": "markdown",
      "metadata": {
        "id": "9OFiTFkigBSn",
        "colab_type": "text"
      },
      "source": [
        "# Download the result"
      ]
    },
    {
      "cell_type": "code",
      "metadata": {
        "id": "Db5IrD__W0MV",
        "colab_type": "code",
        "colab": {}
      },
      "source": [
        "# TO LOCAL MACHINE\n",
        "\n",
        "download('predictions.jpg')"
      ],
      "execution_count": 0,
      "outputs": []
    },
    {
      "cell_type": "code",
      "metadata": {
        "id": "zY84QExJf5g7",
        "colab_type": "code",
        "colab": {}
      },
      "source": [
        "# TO GOOGLE DRIVE \n",
        "\n",
        "!cp predictions.jpg /mydrive/result.jpg"
      ],
      "execution_count": 0,
      "outputs": []
    }
  ]
}